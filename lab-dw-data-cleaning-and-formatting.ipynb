{
  "cells": [
    {
      "cell_type": "markdown",
      "id": "25d7736c-ba17-4aff-b6bb-66eba20fbf4e",
      "metadata": {
        "id": "25d7736c-ba17-4aff-b6bb-66eba20fbf4e"
      },
      "source": [
        "# Lab | Data Cleaning and Formatting"
      ]
    },
    {
      "cell_type": "markdown",
      "id": "d1973e9e-8be6-4039-b70e-d73ee0d94c99",
      "metadata": {
        "id": "d1973e9e-8be6-4039-b70e-d73ee0d94c99"
      },
      "source": [
        "In this lab, we will be working with the customer data from an insurance company, which can be found in the CSV file located at the following link: https://raw.githubusercontent.com/data-bootcamp-v4/data/main/file1.csv\n"
      ]
    },
    {
      "cell_type": "code",
      "execution_count": 2,
      "id": "4d353ca2",
      "metadata": {},
      "outputs": [],
      "source": [
        "import pandas as pd"
      ]
    },
    {
      "cell_type": "code",
      "execution_count": 3,
      "id": "f53b08c1",
      "metadata": {},
      "outputs": [],
      "source": [
        "seguros_data = pd.read_csv(\"https://raw.githubusercontent.com/data-bootcamp-v4/data/main/file1.csv\")"
      ]
    },
    {
      "cell_type": "code",
      "execution_count": 4,
      "id": "ef34859b",
      "metadata": {},
      "outputs": [
        {
          "name": "stdout",
          "output_type": "stream",
          "text": [
            "<class 'pandas.core.frame.DataFrame'>\n",
            "RangeIndex: 4008 entries, 0 to 4007\n",
            "Data columns (total 11 columns):\n",
            " #   Column                     Non-Null Count  Dtype  \n",
            "---  ------                     --------------  -----  \n",
            " 0   Customer                   1071 non-null   object \n",
            " 1   ST                         1071 non-null   object \n",
            " 2   GENDER                     954 non-null    object \n",
            " 3   Education                  1071 non-null   object \n",
            " 4   Customer Lifetime Value    1068 non-null   object \n",
            " 5   Income                     1071 non-null   float64\n",
            " 6   Monthly Premium Auto       1071 non-null   float64\n",
            " 7   Number of Open Complaints  1071 non-null   object \n",
            " 8   Policy Type                1071 non-null   object \n",
            " 9   Vehicle Class              1071 non-null   object \n",
            " 10  Total Claim Amount         1071 non-null   float64\n",
            "dtypes: float64(3), object(8)\n",
            "memory usage: 344.6+ KB\n"
          ]
        }
      ],
      "source": [
        "seguros_data.info()"
      ]
    },
    {
      "cell_type": "markdown",
      "id": "31b8a9e7-7db9-4604-991b-ef6771603e57",
      "metadata": {
        "id": "31b8a9e7-7db9-4604-991b-ef6771603e57"
      },
      "source": [
        "# Challenge 1: Data Cleaning and Formatting"
      ]
    },
    {
      "cell_type": "markdown",
      "id": "81553f19-9f2c-484b-8940-520aff884022",
      "metadata": {
        "id": "81553f19-9f2c-484b-8940-520aff884022"
      },
      "source": [
        "## Exercise 1: Cleaning Column Names"
      ]
    },
    {
      "cell_type": "markdown",
      "id": "34a929f4-1be4-4fa8-adda-42ffd920be90",
      "metadata": {
        "id": "34a929f4-1be4-4fa8-adda-42ffd920be90"
      },
      "source": [
        "To ensure consistency and ease of use, standardize the column names of the dataframe. Start by taking a first look at the dataframe and identifying any column names that need to be modified. Use appropriate naming conventions and make sure that column names are descriptive and informative.\n",
        "\n",
        "*Hint*:\n",
        "- *Column names should be in lower case*\n",
        "- *White spaces in column names should be replaced by `_`*\n",
        "- *`st` could be replaced for `state`*"
      ]
    },
    {
      "cell_type": "code",
      "execution_count": 5,
      "id": "5810735c-8056-4442-bbf2-dda38d3e284a",
      "metadata": {
        "id": "5810735c-8056-4442-bbf2-dda38d3e284a"
      },
      "outputs": [
        {
          "data": {
            "text/plain": [
              "Index(['Customer', 'ST', 'GENDER', 'Education', 'Customer Lifetime Value',\n",
              "       'Income', 'Monthly Premium Auto', 'Number of Open Complaints',\n",
              "       'Policy Type', 'Vehicle Class', 'Total Claim Amount'],\n",
              "      dtype='object')"
            ]
          },
          "execution_count": 5,
          "metadata": {},
          "output_type": "execute_result"
        }
      ],
      "source": [
        "# Your code here\n",
        "\n",
        "seguros_data.columns"
      ]
    },
    {
      "cell_type": "code",
      "execution_count": 6,
      "id": "5da7226b",
      "metadata": {},
      "outputs": [
        {
          "name": "stdout",
          "output_type": "stream",
          "text": [
            "<class 'pandas.core.frame.DataFrame'>\n",
            "RangeIndex: 4008 entries, 0 to 4007\n",
            "Data columns (total 11 columns):\n",
            " #   Column                     Non-Null Count  Dtype  \n",
            "---  ------                     --------------  -----  \n",
            " 0   Customer_ID                1071 non-null   object \n",
            " 1   State                      1071 non-null   object \n",
            " 2   Gender                     954 non-null    object \n",
            " 3   Education                  1071 non-null   object \n",
            " 4   Customer_Lifetime_Value    1068 non-null   object \n",
            " 5   Income                     1071 non-null   float64\n",
            " 6   Monthly_Premium_Auto       1071 non-null   float64\n",
            " 7   Number_of_Open_Complaints  1071 non-null   object \n",
            " 8   Policy_Type                1071 non-null   object \n",
            " 9   Vehicle_Class              1071 non-null   object \n",
            " 10  Total_Claim_Amount         1071 non-null   float64\n",
            "dtypes: float64(3), object(8)\n",
            "memory usage: 344.6+ KB\n"
          ]
        }
      ],
      "source": [
        "seguros_data.rename(columns = {\"Customer Lifetime Value\": \"Customer_Lifetime_Value\", \"Number of Open Complaints\": \"Number_of_Open_Complaints\", \"Customer\": \"Customer_ID\", \"Total Claim Amount\": \"Total_Claim_Amount\", \"Vehicle Class\": \"Vehicle_Class\", \"Policy Type\": \"Policy_Type\", \"ST\": \"State\", \"GENDER\": \"Gender\", \"Monthly Premium Auto\": \"Monthly_Premium_Auto\"}, inplace = True)\n",
        "\n",
        "seguros_data.info()\n"
      ]
    },
    {
      "cell_type": "markdown",
      "id": "9cb501ec-36ff-4589-b872-6252bb150316",
      "metadata": {
        "id": "9cb501ec-36ff-4589-b872-6252bb150316"
      },
      "source": [
        "## Exercise 2: Cleaning invalid Values"
      ]
    },
    {
      "cell_type": "markdown",
      "id": "771fdcf3-8e20-4b06-9c24-3a93ba2b0909",
      "metadata": {
        "id": "771fdcf3-8e20-4b06-9c24-3a93ba2b0909"
      },
      "source": [
        "The dataset contains columns with inconsistent and incorrect values that could affect the accuracy of our analysis. Therefore, we need to clean these columns to ensure that they only contain valid data.\n",
        "\n",
        "Note that this exercise will focus only on cleaning inconsistent values and will not involve handling null values (NaN or None).\n",
        "\n",
        "*Hint*:\n",
        "- *Gender column contains various inconsistent values such as \"F\", \"M\", \"Femal\", \"Male\", \"female\", which need to be standardized, for example, to \"M\" and \"F\".*\n",
        "- *State abbreviations be can replaced with its full name, for example \"AZ\": \"Arizona\", \"Cali\": \"California\", \"WA\": \"Washington\"*\n",
        "- *In education, \"Bachelors\" could be replaced by \"Bachelor\"*\n",
        "- *In Customer Lifetime Value, delete the `%` character*\n",
        "- *In vehicle class, \"Sports Car\", \"Luxury SUV\" and \"Luxury Car\" could be replaced by \"Luxury\"*"
      ]
    },
    {
      "cell_type": "code",
      "execution_count": 7,
      "id": "3f8ee5cb-50ab-48af-8a9f-9a389804033c",
      "metadata": {
        "id": "3f8ee5cb-50ab-48af-8a9f-9a389804033c"
      },
      "outputs": [
        {
          "data": {
            "text/plain": [
              "Gender\n",
              "F    502\n",
              "M    452\n",
              "Name: count, dtype: int64"
            ]
          },
          "execution_count": 7,
          "metadata": {},
          "output_type": "execute_result"
        }
      ],
      "source": [
        "# Your code here\n",
        "\n",
        "seguros_data['Gender'] = seguros_data['Gender'].replace({'Female': 'F', 'Male': 'M', 'Femal': 'F', 'female': 'F', })\n",
        "\n",
        "seguros_data['Gender'].value_counts()\n"
      ]
    },
    {
      "cell_type": "code",
      "execution_count": 8,
      "id": "30509afb",
      "metadata": {},
      "outputs": [
        {
          "data": {
            "text/plain": [
              "State\n",
              "California    331\n",
              "Oregon        320\n",
              "Arizona       211\n",
              "Washington    111\n",
              "Nevada         98\n",
              "Name: count, dtype: int64"
            ]
          },
          "execution_count": 8,
          "metadata": {},
          "output_type": "execute_result"
        }
      ],
      "source": [
        "seguros_data['State'] = seguros_data['State'].replace({'AZ': 'Arizona', 'Cali': 'California', 'WA': 'Washington'})\n",
        "\n",
        "seguros_data['State'].value_counts()"
      ]
    },
    {
      "cell_type": "code",
      "execution_count": 9,
      "id": "e9706c7c",
      "metadata": {},
      "outputs": [
        {
          "data": {
            "text/plain": [
              "Education\n",
              "Bachelor                331\n",
              "College                 313\n",
              "High School or Below    296\n",
              "Master                   94\n",
              "Doctor                   37\n",
              "Name: count, dtype: int64"
            ]
          },
          "execution_count": 9,
          "metadata": {},
          "output_type": "execute_result"
        }
      ],
      "source": [
        "seguros_data['Education'] = seguros_data['Education'].replace({'Bachelors': 'Bachelor'})\n",
        "\n",
        "seguros_data['Education'].value_counts()"
      ]
    },
    {
      "cell_type": "code",
      "execution_count": 10,
      "id": "7ed9b1aa",
      "metadata": {},
      "outputs": [
        {
          "data": {
            "text/plain": [
              "Customer_Lifetime_Value\n",
              "445811.34     4\n",
              "251459.20     4\n",
              "272535.64     3\n",
              "578018.22     3\n",
              "684615.03     3\n",
              "             ..\n",
              "245357.08     1\n",
              "507566.27     1\n",
              "321497.94     1\n",
              "1227534.31    1\n",
              "899704.02     1\n",
              "Name: count, Length: 1027, dtype: int64"
            ]
          },
          "execution_count": 10,
          "metadata": {},
          "output_type": "execute_result"
        }
      ],
      "source": [
        "seguros_data['Customer_Lifetime_Value'] = seguros_data['Customer_Lifetime_Value'].str.replace('%', '')\n",
        "\n",
        "seguros_data['Customer_Lifetime_Value'].value_counts()"
      ]
    },
    {
      "cell_type": "code",
      "execution_count": 11,
      "id": "78ee0581",
      "metadata": {},
      "outputs": [
        {
          "data": {
            "text/plain": [
              "Vehicle_Class\n",
              "Four-Door Car    576\n",
              "Two-Door Car     205\n",
              "SUV              199\n",
              "Luxury Car        91\n",
              "Name: count, dtype: int64"
            ]
          },
          "execution_count": 11,
          "metadata": {},
          "output_type": "execute_result"
        }
      ],
      "source": [
        "seguros_data['Vehicle_Class'] = seguros_data['Vehicle_Class'].replace({'Luxury SUV': 'Luxury', 'Luxury SUV2': 'Luxury', 'Sports Car': 'Luxury'})\n",
        "\n",
        "seguros_data['Vehicle_Class'].value_counts()"
      ]
    },
    {
      "cell_type": "markdown",
      "id": "85ff78ce-0174-4890-9db3-8048b7d7d2d0",
      "metadata": {
        "id": "85ff78ce-0174-4890-9db3-8048b7d7d2d0"
      },
      "source": [
        "## Exercise 3: Formatting data types"
      ]
    },
    {
      "cell_type": "markdown",
      "id": "b91c2cf8-79a2-4baf-9f65-ff2fb22270bd",
      "metadata": {
        "id": "b91c2cf8-79a2-4baf-9f65-ff2fb22270bd"
      },
      "source": [
        "The data types of many columns in the dataset appear to be incorrect. This could impact the accuracy of our analysis. To ensure accurate analysis, we need to correct the data types of these columns. Please update the data types of the columns as appropriate."
      ]
    },
    {
      "cell_type": "markdown",
      "id": "43e5d853-ff9e-43b2-9d92-aef2f78764f3",
      "metadata": {
        "id": "43e5d853-ff9e-43b2-9d92-aef2f78764f3"
      },
      "source": [
        "It is important to note that this exercise does not involve handling null values (NaN or None)."
      ]
    },
    {
      "cell_type": "markdown",
      "id": "329ca691-9196-4419-8969-3596746237a1",
      "metadata": {
        "id": "329ca691-9196-4419-8969-3596746237a1"
      },
      "source": [
        "*Hint*:\n",
        "- *Customer lifetime value should be numeric*\n",
        "- *Number of open complaints has an incorrect format. Look at the different values it takes with `unique()` and take the middle value. As an example, 1/5/00 should be 5. Number of open complaints is a string - remember you can use `split()` to deal with it and take the number you need. Finally, since it should be numeric, cast the column to be in its proper type.*"
      ]
    },
    {
      "cell_type": "code",
      "execution_count": 12,
      "id": "eb8f5991-73e9-405f-bf1c-6b7c589379a9",
      "metadata": {
        "id": "eb8f5991-73e9-405f-bf1c-6b7c589379a9"
      },
      "outputs": [
        {
          "name": "stdout",
          "output_type": "stream",
          "text": [
            "<class 'pandas.core.frame.DataFrame'>\n",
            "RangeIndex: 4008 entries, 0 to 4007\n",
            "Data columns (total 11 columns):\n",
            " #   Column                     Non-Null Count  Dtype  \n",
            "---  ------                     --------------  -----  \n",
            " 0   Customer_ID                1071 non-null   object \n",
            " 1   State                      1071 non-null   object \n",
            " 2   Gender                     954 non-null    object \n",
            " 3   Education                  1071 non-null   object \n",
            " 4   Customer_Lifetime_Value    1068 non-null   float64\n",
            " 5   Income                     1071 non-null   float64\n",
            " 6   Monthly_Premium_Auto       1071 non-null   float64\n",
            " 7   Number_of_Open_Complaints  1071 non-null   object \n",
            " 8   Policy_Type                1071 non-null   object \n",
            " 9   Vehicle_Class              1071 non-null   object \n",
            " 10  Total_Claim_Amount         1071 non-null   float64\n",
            "dtypes: float64(4), object(7)\n",
            "memory usage: 344.6+ KB\n"
          ]
        }
      ],
      "source": [
        "# Your code here\n",
        "\n",
        "seguros_data['Customer_Lifetime_Value'] = pd.to_numeric(seguros_data['Customer_Lifetime_Value'], errors='coerce')\n",
        "seguros_data.info()"
      ]
    },
    {
      "cell_type": "code",
      "execution_count": 13,
      "id": "48e9ab9e",
      "metadata": {},
      "outputs": [
        {
          "data": {
            "text/plain": [
              "array(['1/0/00', '1/2/00', '1/1/00', '1/3/00', '1/5/00', '1/4/00', nan],\n",
              "      dtype=object)"
            ]
          },
          "execution_count": 13,
          "metadata": {},
          "output_type": "execute_result"
        }
      ],
      "source": [
        "seguros_data['Number_of_Open_Complaints'].unique()"
      ]
    },
    {
      "cell_type": "code",
      "execution_count": 14,
      "id": "4fc5503c",
      "metadata": {},
      "outputs": [
        {
          "data": {
            "text/plain": [
              "Number_of_Open_Complaints\n",
              "0    830\n",
              "1    138\n",
              "2     50\n",
              "3     34\n",
              "4     13\n",
              "5      6\n",
              "Name: count, dtype: int64"
            ]
          },
          "execution_count": 14,
          "metadata": {},
          "output_type": "execute_result"
        }
      ],
      "source": [
        "seguros_data['Number_of_Open_Complaints'] = seguros_data['Number_of_Open_Complaints'].str.split('/').str[1]\n",
        "\n",
        "seguros_data['Number_of_Open_Complaints'].value_counts()"
      ]
    },
    {
      "cell_type": "code",
      "execution_count": 15,
      "id": "699ec453",
      "metadata": {},
      "outputs": [
        {
          "data": {
            "text/plain": [
              "Number_of_Open_Complaints\n",
              "0.0    830\n",
              "1.0    138\n",
              "2.0     50\n",
              "3.0     34\n",
              "4.0     13\n",
              "5.0      6\n",
              "Name: count, dtype: int64"
            ]
          },
          "execution_count": 15,
          "metadata": {},
          "output_type": "execute_result"
        }
      ],
      "source": [
        "seguros_data['Number_of_Open_Complaints'] = pd.to_numeric(seguros_data['Number_of_Open_Complaints'], errors='coerce')\n",
        "\n",
        "seguros_data['Number_of_Open_Complaints'].value_counts()"
      ]
    },
    {
      "cell_type": "code",
      "execution_count": 16,
      "id": "20f5f1bf",
      "metadata": {},
      "outputs": [
        {
          "name": "stdout",
          "output_type": "stream",
          "text": [
            "Index(['Customer_ID', 'State', 'Gender', 'Education',\n",
            "       'Customer_Lifetime_Value', 'Income', 'Monthly_Premium_Auto',\n",
            "       'Number_of_Open_Complaints', 'Policy_Type', 'Vehicle_Class',\n",
            "       'Total_Claim_Amount'],\n",
            "      dtype='object')\n"
          ]
        }
      ],
      "source": [
        "print(seguros_data.columns)"
      ]
    },
    {
      "cell_type": "markdown",
      "id": "14c52e28-2d0c-4dd2-8bd5-3476e34fadc1",
      "metadata": {
        "id": "14c52e28-2d0c-4dd2-8bd5-3476e34fadc1"
      },
      "source": [
        "## Exercise 4: Dealing with Null values"
      ]
    },
    {
      "cell_type": "markdown",
      "id": "34b9a20f-7d32-4417-975e-1b4dfb0e16cd",
      "metadata": {
        "id": "34b9a20f-7d32-4417-975e-1b4dfb0e16cd"
      },
      "source": [
        "Identify any columns with null or missing values. Identify how many null values each column has. You can use the `isnull()` function in pandas to find columns with null values.\n",
        "\n",
        "Decide on a strategy for handling the null values. There are several options, including:\n",
        "\n",
        "- Drop the rows or columns with null values\n",
        "- Fill the null values with a specific value (such as the column mean or median for numerical variables, and mode for categorical variables)\n",
        "- Fill the null values with the previous or next value in the column\n",
        "- Fill the null values based on a more complex algorithm or model (note: we haven't covered this yet)\n",
        "\n",
        "Implement your chosen strategy to handle the null values. You can use the `fillna()` function in pandas to fill null values or `dropna()` function to drop null values.\n",
        "\n",
        "Verify that your strategy has successfully handled the null values. You can use the `isnull()` function again to check if there are still null values in the dataset.\n",
        "\n",
        "Remember to document your process and explain your reasoning for choosing a particular strategy for handling null values.\n",
        "\n",
        "After formatting data types, as a last step, convert all the numeric variables to integers."
      ]
    },
    {
      "cell_type": "code",
      "execution_count": 17,
      "id": "903b9550",
      "metadata": {},
      "outputs": [
        {
          "name": "stdout",
          "output_type": "stream",
          "text": [
            "Customer_ID                  2937\n",
            "State                        2937\n",
            "Gender                       3054\n",
            "Education                    2937\n",
            "Customer_Lifetime_Value      2940\n",
            "Income                       2937\n",
            "Monthly_Premium_Auto         2937\n",
            "Number_of_Open_Complaints    2937\n",
            "Policy_Type                  2937\n",
            "Vehicle_Class                2937\n",
            "Total_Claim_Amount           2937\n",
            "dtype: int64\n"
          ]
        }
      ],
      "source": [
        "null_columns = seguros_data.isnull().sum()\n",
        "\n",
        "print(null_columns)"
      ]
    },
    {
      "cell_type": "code",
      "execution_count": 18,
      "id": "283d4dd7",
      "metadata": {},
      "outputs": [
        {
          "data": {
            "text/plain": [
              "Customer_Lifetime_Value\n",
              "445811.34     4\n",
              "251459.20     4\n",
              "272535.64     3\n",
              "578018.22     3\n",
              "684615.03     3\n",
              "             ..\n",
              "245357.08     1\n",
              "507566.27     1\n",
              "321497.94     1\n",
              "1227534.31    1\n",
              "899704.02     1\n",
              "Name: count, Length: 1027, dtype: int64"
            ]
          },
          "execution_count": 18,
          "metadata": {},
          "output_type": "execute_result"
        }
      ],
      "source": [
        "seguros_data['Customer_Lifetime_Value'] = pd.to_numeric(seguros_data['Customer_Lifetime_Value'], errors='coerce')\n",
        "\n",
        "seguros_data['Customer_Lifetime_Value'].value_counts()"
      ]
    },
    {
      "cell_type": "code",
      "execution_count": 19,
      "id": "f184fc35-7831-4836-a0a5-e7f99e01b40e",
      "metadata": {
        "id": "f184fc35-7831-4836-a0a5-e7f99e01b40e"
      },
      "outputs": [
        {
          "data": {
            "text/plain": [
              "Customer_Lifetime_Value\n",
              "588174.235     2940\n",
              "445811.340        4\n",
              "251459.200        4\n",
              "2412750.400       3\n",
              "684615.030        3\n",
              "               ... \n",
              "1210120.880       1\n",
              "245357.080        1\n",
              "507566.270        1\n",
              "321497.940        1\n",
              "899704.020        1\n",
              "Name: count, Length: 1028, dtype: int64"
            ]
          },
          "execution_count": 19,
          "metadata": {},
          "output_type": "execute_result"
        }
      ],
      "source": [
        "# Your code here\n",
        "\n",
        "seguros_data['Customer_Lifetime_Value'] = seguros_data['Customer_Lifetime_Value'].fillna(seguros_data['Customer_Lifetime_Value'].median())\n",
        "\n",
        "seguros_data['Customer_Lifetime_Value'].value_counts()"
      ]
    },
    {
      "cell_type": "code",
      "execution_count": 20,
      "id": "f9508d00",
      "metadata": {},
      "outputs": [
        {
          "data": {
            "text/plain": [
              "Gender\n",
              "F    3556\n",
              "M     452\n",
              "Name: count, dtype: int64"
            ]
          },
          "execution_count": 20,
          "metadata": {},
          "output_type": "execute_result"
        }
      ],
      "source": [
        "seguros_data['Gender'] = seguros_data['Gender'].fillna(seguros_data['Gender'].mode()[0])\n",
        "\n",
        "seguros_data['Gender'].value_counts()"
      ]
    },
    {
      "cell_type": "code",
      "execution_count": 21,
      "id": "69eeb02b",
      "metadata": {},
      "outputs": [
        {
          "name": "stdout",
          "output_type": "stream",
          "text": [
            "Customer_ID                  2937\n",
            "State                        2937\n",
            "Gender                          0\n",
            "Education                    2937\n",
            "Customer_Lifetime_Value         0\n",
            "Income                       2937\n",
            "Monthly_Premium_Auto         2937\n",
            "Number_of_Open_Complaints    2937\n",
            "Policy_Type                  2937\n",
            "Vehicle_Class                2937\n",
            "Total_Claim_Amount           2937\n",
            "dtype: int64\n"
          ]
        }
      ],
      "source": [
        "print(seguros_data.isnull().sum())"
      ]
    },
    {
      "cell_type": "code",
      "execution_count": 22,
      "id": "c39278f0",
      "metadata": {},
      "outputs": [
        {
          "name": "stdout",
          "output_type": "stream",
          "text": [
            "Customer_ID                   object\n",
            "State                         object\n",
            "Gender                        object\n",
            "Education                     object\n",
            "Customer_Lifetime_Value        int32\n",
            "Income                         int32\n",
            "Monthly_Premium_Auto           int32\n",
            "Number_of_Open_Complaints    float64\n",
            "Policy_Type                   object\n",
            "Vehicle_Class                 object\n",
            "Total_Claim_Amount             int32\n",
            "dtype: object\n"
          ]
        }
      ],
      "source": [
        "numerical_columns = ['Income', 'Monthly_Premium_Auto', 'Total_Claim_Amount', 'Customer_Lifetime_Value']\n",
        "\n",
        "seguros_data[numerical_columns] = seguros_data[numerical_columns].fillna(0).astype(int)\n",
        "\n",
        "print(seguros_data.dtypes)\n"
      ]
    },
    {
      "cell_type": "code",
      "execution_count": 23,
      "id": "1910d978",
      "metadata": {},
      "outputs": [
        {
          "name": "stdout",
          "output_type": "stream",
          "text": [
            "Index(['Customer_ID', 'State', 'Gender', 'Education',\n",
            "       'Customer_Lifetime_Value', 'Income', 'Monthly_Premium_Auto',\n",
            "       'Number_of_Open_Complaints', 'Policy_Type', 'Vehicle_Class',\n",
            "       'Total_Claim_Amount'],\n",
            "      dtype='object')\n"
          ]
        }
      ],
      "source": [
        "# Your code here\n",
        "print(seguros_data.columns)\n"
      ]
    },
    {
      "cell_type": "markdown",
      "id": "98416351-e999-4156-9834-9b00a311adfa",
      "metadata": {
        "id": "98416351-e999-4156-9834-9b00a311adfa"
      },
      "source": [
        "## Exercise 5: Dealing with duplicates"
      ]
    },
    {
      "cell_type": "markdown",
      "id": "ea0816a7-a18e-4d4c-b667-a8452a800bd1",
      "metadata": {
        "id": "ea0816a7-a18e-4d4c-b667-a8452a800bd1"
      },
      "source": [
        "Use the `.duplicated()` method to identify any duplicate rows in the dataframe.\n",
        "\n",
        "Decide on a strategy for handling the duplicates. Options include:\n",
        "- Dropping all duplicate rows\n",
        "- Keeping only the first occurrence of each duplicated row\n",
        "- Keeping only the last occurrence of each duplicated row\n",
        "- Dropping duplicates based on a subset of columns\n",
        "- Dropping duplicates based on a specific column\n",
        "\n",
        "Implement your chosen strategy using the `drop_duplicates()` function.\n",
        "\n",
        "Verify that your strategy has successfully handled the duplicates by checking for duplicates again using `.duplicated()`.\n",
        "\n",
        "Remember to document your process and explain your reasoning for choosing a particular strategy for handling duplicates.\n",
        "\n",
        "Save the cleaned dataset to a new CSV file.\n",
        "\n",
        "*Hint*: *after dropping duplicates, reset the index to ensure consistency*."
      ]
    },
    {
      "cell_type": "code",
      "execution_count": 8,
      "id": "1929362c-47ed-47cb-baca-358b78d401a0",
      "metadata": {
        "id": "1929362c-47ed-47cb-baca-358b78d401a0"
      },
      "outputs": [
        {
          "name": "stdout",
          "output_type": "stream",
          "text": [
            "0       False\n",
            "1       False\n",
            "2       False\n",
            "3       False\n",
            "4       False\n",
            "        ...  \n",
            "4003     True\n",
            "4004     True\n",
            "4005     True\n",
            "4006     True\n",
            "4007     True\n",
            "Length: 4008, dtype: bool\n"
          ]
        }
      ],
      "source": [
        "# Your code here\n",
        "\n",
        "duplicates = seguros_data.duplicated()\n",
        "\n",
        "print(duplicates)"
      ]
    },
    {
      "cell_type": "code",
      "execution_count": 7,
      "id": "14d7f364",
      "metadata": {},
      "outputs": [
        {
          "name": "stdout",
          "output_type": "stream",
          "text": [
            "2936\n"
          ]
        }
      ],
      "source": [
        "duplicates_sum = seguros_data.duplicated().sum()\n",
        "\n",
        "print(duplicates_sum)"
      ]
    },
    {
      "cell_type": "code",
      "execution_count": 9,
      "id": "cd912a69",
      "metadata": {},
      "outputs": [
        {
          "name": "stdout",
          "output_type": "stream",
          "text": [
            "False    1072\n",
            "Name: count, dtype: int64\n"
          ]
        }
      ],
      "source": [
        "seguros_data = seguros_data.drop_duplicates(keep = 'first')\n",
        "\n",
        "seguros_data.reset_index(drop=True, inplace=True)\n",
        "\n",
        "print(seguros_data.duplicated().value_counts())"
      ]
    },
    {
      "cell_type": "code",
      "execution_count": 10,
      "id": "3cf9adae",
      "metadata": {},
      "outputs": [
        {
          "name": "stdout",
          "output_type": "stream",
          "text": [
            "0\n"
          ]
        }
      ],
      "source": [
        "duplicates_sum = seguros_data.duplicated().sum()\n",
        "\n",
        "print(duplicates_sum)"
      ]
    },
    {
      "cell_type": "code",
      "execution_count": 26,
      "id": "77788c9c",
      "metadata": {},
      "outputs": [
        {
          "name": "stdout",
          "output_type": "stream",
          "text": [
            "<class 'pandas.core.frame.DataFrame'>\n",
            "RangeIndex: 1072 entries, 0 to 1071\n",
            "Data columns (total 11 columns):\n",
            " #   Column                     Non-Null Count  Dtype  \n",
            "---  ------                     --------------  -----  \n",
            " 0   Customer_ID                1071 non-null   object \n",
            " 1   State                      1071 non-null   object \n",
            " 2   Gender                     1072 non-null   object \n",
            " 3   Education                  1071 non-null   object \n",
            " 4   Customer_Lifetime_Value    1072 non-null   int32  \n",
            " 5   Income                     1072 non-null   int32  \n",
            " 6   Monthly_Premium_Auto       1072 non-null   int32  \n",
            " 7   Number_of_Open_Complaints  1071 non-null   float64\n",
            " 8   Policy_Type                1071 non-null   object \n",
            " 9   Vehicle_Class              1071 non-null   object \n",
            " 10  Total_Claim_Amount         1072 non-null   int32  \n",
            "dtypes: float64(1), int32(4), object(6)\n",
            "memory usage: 75.5+ KB\n"
          ]
        }
      ],
      "source": [
        "seguros_data.info()"
      ]
    },
    {
      "cell_type": "code",
      "execution_count": 11,
      "id": "9db61837",
      "metadata": {},
      "outputs": [
        {
          "data": {
            "text/html": [
              "<div>\n",
              "<style scoped>\n",
              "    .dataframe tbody tr th:only-of-type {\n",
              "        vertical-align: middle;\n",
              "    }\n",
              "\n",
              "    .dataframe tbody tr th {\n",
              "        vertical-align: top;\n",
              "    }\n",
              "\n",
              "    .dataframe thead th {\n",
              "        text-align: right;\n",
              "    }\n",
              "</style>\n",
              "<table border=\"1\" class=\"dataframe\">\n",
              "  <thead>\n",
              "    <tr style=\"text-align: right;\">\n",
              "      <th></th>\n",
              "      <th>Income</th>\n",
              "      <th>Monthly_Premium_Auto</th>\n",
              "      <th>Total_Claim_Amount</th>\n",
              "    </tr>\n",
              "  </thead>\n",
              "  <tbody>\n",
              "    <tr>\n",
              "      <th>count</th>\n",
              "      <td>1071.000000</td>\n",
              "      <td>1071.000000</td>\n",
              "      <td>1071.000000</td>\n",
              "    </tr>\n",
              "    <tr>\n",
              "      <th>mean</th>\n",
              "      <td>39295.701214</td>\n",
              "      <td>193.234360</td>\n",
              "      <td>404.986909</td>\n",
              "    </tr>\n",
              "    <tr>\n",
              "      <th>std</th>\n",
              "      <td>30469.427060</td>\n",
              "      <td>1601.190369</td>\n",
              "      <td>293.027260</td>\n",
              "    </tr>\n",
              "    <tr>\n",
              "      <th>min</th>\n",
              "      <td>0.000000</td>\n",
              "      <td>61.000000</td>\n",
              "      <td>0.382107</td>\n",
              "    </tr>\n",
              "    <tr>\n",
              "      <th>25%</th>\n",
              "      <td>14072.000000</td>\n",
              "      <td>68.000000</td>\n",
              "      <td>202.157702</td>\n",
              "    </tr>\n",
              "    <tr>\n",
              "      <th>50%</th>\n",
              "      <td>36234.000000</td>\n",
              "      <td>83.000000</td>\n",
              "      <td>354.729129</td>\n",
              "    </tr>\n",
              "    <tr>\n",
              "      <th>75%</th>\n",
              "      <td>64631.000000</td>\n",
              "      <td>109.500000</td>\n",
              "      <td>532.800000</td>\n",
              "    </tr>\n",
              "    <tr>\n",
              "      <th>max</th>\n",
              "      <td>99960.000000</td>\n",
              "      <td>35354.000000</td>\n",
              "      <td>2893.239678</td>\n",
              "    </tr>\n",
              "  </tbody>\n",
              "</table>\n",
              "</div>"
            ],
            "text/plain": [
              "             Income  Monthly_Premium_Auto  Total_Claim_Amount\n",
              "count   1071.000000           1071.000000         1071.000000\n",
              "mean   39295.701214            193.234360          404.986909\n",
              "std    30469.427060           1601.190369          293.027260\n",
              "min        0.000000             61.000000            0.382107\n",
              "25%    14072.000000             68.000000          202.157702\n",
              "50%    36234.000000             83.000000          354.729129\n",
              "75%    64631.000000            109.500000          532.800000\n",
              "max    99960.000000          35354.000000         2893.239678"
            ]
          },
          "execution_count": 11,
          "metadata": {},
          "output_type": "execute_result"
        }
      ],
      "source": [
        "seguros_data.describe()"
      ]
    },
    {
      "cell_type": "markdown",
      "id": "60840701-4783-40e2-b4d8-55303f9100c9",
      "metadata": {
        "id": "60840701-4783-40e2-b4d8-55303f9100c9"
      },
      "source": [
        "# Bonus: Challenge 2: creating functions on a separate `py` file"
      ]
    },
    {
      "cell_type": "markdown",
      "id": "9d1adb3a-17cf-4899-8041-da21a4337fb4",
      "metadata": {
        "id": "9d1adb3a-17cf-4899-8041-da21a4337fb4"
      },
      "source": [
        "Put all the data cleaning and formatting steps into functions, and create a main function that performs all the cleaning and formatting.\n",
        "\n",
        "Write these functions in separate .py file(s). By putting these steps into functions, we can make the code more modular and easier to maintain."
      ]
    },
    {
      "cell_type": "markdown",
      "id": "0e170dc2-b62c-417a-8248-e63ed18a70c4",
      "metadata": {
        "id": "0e170dc2-b62c-417a-8248-e63ed18a70c4"
      },
      "source": [
        "*Hint: autoreload module is a utility module in Python that allows you to automatically reload modules in the current session when changes are made to the source code. This can be useful in situations where you are actively developing code and want to see the effects of changes you make without having to constantly restart the Python interpreter or Jupyter Notebook kernel.*"
      ]
    },
    {
      "cell_type": "code",
      "execution_count": 66,
      "id": "ffd83d54",
      "metadata": {},
      "outputs": [
        {
          "name": "stdout",
          "output_type": "stream",
          "text": [
            "Index(['Customer_ID', 'State', 'Gender', 'Education',\n",
            "       'Customer_Lifetime_Value', 'Income', 'Monthly_Premium_Auto',\n",
            "       'Number_of_Open_Complaints', 'Policy_Type', 'Vehicle_Class',\n",
            "       'Total_Claim_Amount'],\n",
            "      dtype='object')\n"
          ]
        }
      ],
      "source": [
        "print (seguros_data.columns)"
      ]
    },
    {
      "cell_type": "code",
      "execution_count": 70,
      "id": "7bcbb357",
      "metadata": {},
      "outputs": [
        {
          "data": {
            "text/plain": [
              "Index(['Customer_ID', 'State', 'Gender', 'Education',\n",
              "       'Customer_Lifetime_Value', 'Income', 'Monthly_Premium_Auto',\n",
              "       'Number_of_Open_Complaints', 'Policy_Type', 'Vehicle_Class',\n",
              "       'Total_Claim_Amount'],\n",
              "      dtype='object')"
            ]
          },
          "execution_count": 70,
          "metadata": {},
          "output_type": "execute_result"
        }
      ],
      "source": [
        "seguros_data.columns"
      ]
    },
    {
      "cell_type": "code",
      "execution_count": 79,
      "id": "7fb2156a",
      "metadata": {},
      "outputs": [
        {
          "name": "stdout",
          "output_type": "stream",
          "text": [
            "  Customer          ST GENDER             Education Customer Lifetime Value  \\\n",
            "0  RB50392  Washington    NaN                Master                     NaN   \n",
            "1  QZ44356     Arizona      F              Bachelor              697953.59%   \n",
            "2  AI49188      Nevada      F              Bachelor             1288743.17%   \n",
            "3  WW63253  California      M              Bachelor              764586.18%   \n",
            "4  GA49547  Washington      M  High School or Below              536307.65%   \n",
            "\n",
            "    Income  Monthly Premium Auto Number of Open Complaints     Policy Type  \\\n",
            "0      0.0                1000.0                    1/0/00   Personal Auto   \n",
            "1      0.0                  94.0                    1/0/00   Personal Auto   \n",
            "2  48767.0                 108.0                    1/0/00   Personal Auto   \n",
            "3      0.0                 106.0                    1/0/00  Corporate Auto   \n",
            "4  36357.0                  68.0                    1/0/00   Personal Auto   \n",
            "\n",
            "   Vehicle Class  Total Claim Amount  \n",
            "0  Four-Door Car            2.704934  \n",
            "1  Four-Door Car         1131.464935  \n",
            "2   Two-Door Car          566.472247  \n",
            "3            SUV          529.881344  \n",
            "4  Four-Door Car           17.269323  \n"
          ]
        },
        {
          "name": "stderr",
          "output_type": "stream",
          "text": [
            "c:\\DAM\\Ironhack\\Laboratorios\\lab-dw-data-cleaning-and-formatting\\data_cleaning.py:21: UserWarning: Boolean Series key will be reindexed to match DataFrame index.\n",
            "  data = data.drop_duplicates(keep='first')\n"
          ]
        }
      ],
      "source": [
        "# Para recargar automáticamente los módulos cuando son modificados en Jupyter Notebook\n",
        "%reload_ext autoreload\n",
        "%autoreload 2\n",
        "\n",
        "# Cargar las diferentes funciones de limpieza\n",
        "from data_cleaning import clean_data\n",
        "\n",
        "filepath ='https://raw.githubusercontent.com/data-bootcamp-v4/data/main/file1.csv'\n",
        "\n",
        "# Llamar a la función principal para limpiar los datos\n",
        "cleaned_data = clean_data(filepath)\n",
        "\n",
        "# Ahora puedes continuar trabajando con cleaned_data\n",
        "print(cleaned_data.head())\n"
      ]
    },
    {
      "cell_type": "markdown",
      "id": "80f846bb-3f5e-4ca2-96c0-900728daca5a",
      "metadata": {
        "id": "80f846bb-3f5e-4ca2-96c0-900728daca5a",
        "tags": []
      },
      "source": [
        "# Bonus: Challenge 3: Analyzing Clean and Formated Data"
      ]
    },
    {
      "cell_type": "markdown",
      "id": "9021630e-cc90-446c-b5bd-264d6c864207",
      "metadata": {
        "id": "9021630e-cc90-446c-b5bd-264d6c864207"
      },
      "source": [
        "You have been tasked with analyzing the data to identify potential areas for improving customer retention and profitability. Your goal is to identify customers with a high policy claim amount and a low customer lifetime value.\n",
        "\n",
        "In the Pandas Lab, we only looked at high policy claim amounts because we couldn't look into low customer lifetime values. If we had tried to work with that column, we wouldn't have been able to because customer lifetime value wasn't clean and in its proper format. So after cleaning and formatting the data, let's get some more interesting insights!\n",
        "\n",
        "Instructions:\n",
        "\n",
        "- Review the statistics again for total claim amount and customer lifetime value to gain an understanding of the data.\n",
        "- To identify potential areas for improving customer retention and profitability, we want to focus on customers with a high policy claim amount and a low customer lifetime value. Consider customers with a high policy claim amount to be those in the top 25% of the total claim amount, and clients with a low customer lifetime value to be those in the bottom 25% of the customer lifetime value. Create a pandas DataFrame object that contains information about customers with a policy claim amount greater than the 75th percentile and a customer lifetime value in the bottom 25th percentile.\n",
        "- Use DataFrame methods to calculate summary statistics about the high policy claim amount and low customer lifetime value data. To do so, select both columns of the dataframe simultaneously and pass it to the `.describe()` method. This will give you descriptive statistics, such as mean, median, standard deviation, minimum and maximum values for both columns at the same time, allowing you to compare and analyze their characteristics."
      ]
    },
    {
      "cell_type": "code",
      "execution_count": 27,
      "id": "a559151b",
      "metadata": {},
      "outputs": [
        {
          "data": {
            "text/plain": [
              "Index(['Customer_ID', 'State', 'Gender', 'Education',\n",
              "       'Customer_Lifetime_Value', 'Income', 'Monthly_Premium_Auto',\n",
              "       'Number_of_Open_Complaints', 'Policy_Type', 'Vehicle_Class',\n",
              "       'Total_Claim_Amount'],\n",
              "      dtype='object')"
            ]
          },
          "execution_count": 27,
          "metadata": {},
          "output_type": "execute_result"
        }
      ],
      "source": [
        "seguros_data.columns"
      ]
    },
    {
      "cell_type": "code",
      "execution_count": 28,
      "id": "211e82b5-461a-4d6f-8a23-4deccb84173c",
      "metadata": {
        "id": "211e82b5-461a-4d6f-8a23-4deccb84173c"
      },
      "outputs": [
        {
          "name": "stdout",
          "output_type": "stream",
          "text": [
            "       Total_Claim_Amount  Customer_Lifetime_Value\n",
            "count         1072.000000             1.072000e+03\n",
            "mean           404.151119             7.929229e+05\n",
            "std            293.165478             6.423980e+05\n",
            "min              0.000000             2.004350e+05\n",
            "25%            201.000000             4.054045e+05\n",
            "50%            352.500000             5.881740e+05\n",
            "75%            532.000000             8.937668e+05\n",
            "max           2893.000000             5.816655e+06\n"
          ]
        }
      ],
      "source": [
        "# Your code here\n",
        "\n",
        "print(seguros_data[['Total_Claim_Amount', 'Customer_Lifetime_Value']].describe())"
      ]
    },
    {
      "cell_type": "code",
      "execution_count": 29,
      "id": "eb82c8eb",
      "metadata": {},
      "outputs": [
        {
          "name": "stdout",
          "output_type": "stream",
          "text": [
            "893766.75\n",
            "405404.5\n",
            "     Customer_ID       State Gender             Education  \\\n",
            "2        AI49188      Nevada      F              Bachelor   \n",
            "8        DY87989      Oregon      M              Bachelor   \n",
            "16       FV94802      Nevada      F  High School or Below   \n",
            "17       OE15005  California      F               College   \n",
            "20       ZK25313      Oregon      F  High School or Below   \n",
            "...          ...         ...    ...                   ...   \n",
            "1065     XD85577  California      M              Bachelor   \n",
            "1066     TM65736      Oregon      M                Master   \n",
            "1067     VJ51327  California      F  High School or Below   \n",
            "1068     GS98873     Arizona      F              Bachelor   \n",
            "1070     MY31220  California      F               College   \n",
            "\n",
            "      Customer_Lifetime_Value  Income  Monthly_Premium_Auto  \\\n",
            "2                     1288743   48767                   108   \n",
            "8                     2412750   14072                    71   \n",
            "16                     256686   25049                    67   \n",
            "17                     394524   28855                   101   \n",
            "20                     287205   57749                    74   \n",
            "...                       ...     ...                   ...   \n",
            "1065                   284226   69417                    73   \n",
            "1066                   305955   38644                    78   \n",
            "1067                  2031499   63209                   102   \n",
            "1068                   323912   16061                    88   \n",
            "1070                   899704   54230                   112   \n",
            "\n",
            "      Number_of_Open_Complaints     Policy_Type  Vehicle_Class  \\\n",
            "2                           0.0   Personal Auto   Two-Door Car   \n",
            "8                           0.0  Corporate Auto  Four-Door Car   \n",
            "16                          0.0   Personal Auto   Two-Door Car   \n",
            "17                          0.0   Personal Auto            SUV   \n",
            "20                          0.0   Personal Auto   Two-Door Car   \n",
            "...                         ...             ...            ...   \n",
            "1065                        1.0   Personal Auto  Four-Door Car   \n",
            "1066                        1.0   Personal Auto  Four-Door Car   \n",
            "1067                        2.0   Personal Auto            SUV   \n",
            "1068                        0.0   Personal Auto  Four-Door Car   \n",
            "1070                        0.0   Personal Auto   Two-Door Car   \n",
            "\n",
            "      Total_Claim_Amount  \n",
            "2                    566  \n",
            "8                    511  \n",
            "16                   454  \n",
            "17                   647  \n",
            "20                   355  \n",
            "...                  ...  \n",
            "1065                  30  \n",
            "1066                 361  \n",
            "1067                 207  \n",
            "1068                 633  \n",
            "1070                 537  \n",
            "\n",
            "[536 rows x 11 columns]\n",
            "       Customer_Lifetime_Value  Total_Claim_Amount\n",
            "count             5.360000e+02          536.000000\n",
            "mean              9.597774e+05          407.587687\n",
            "std               8.656793e+05          295.397005\n",
            "min               2.004350e+05            0.000000\n",
            "25%               2.744968e+05          187.750000\n",
            "50%               6.498890e+05          357.500000\n",
            "75%               1.337284e+06          540.250000\n",
            "max               5.816655e+06         2027.000000\n"
          ]
        }
      ],
      "source": [
        "percentil_1 = seguros_data['Customer_Lifetime_Value'].quantile(0.75)\n",
        "\n",
        "percentil_2 = seguros_data['Customer_Lifetime_Value'].quantile(0.25)\n",
        "\n",
        "print(percentil_1)\n",
        "print(percentil_2)\n",
        "\n",
        "customer_of_interest = seguros_data[\n",
        "    (seguros_data['Customer_Lifetime_Value'] > percentil_1) | \n",
        "    (seguros_data['Customer_Lifetime_Value'] < percentil_2)]\n",
        "\n",
        "print(customer_of_interest)\n",
        "\n",
        "summary_statistics = customer_of_interest[['Customer_Lifetime_Value', 'Total_Claim_Amount']].describe()\n",
        "\n",
        "print(summary_statistics)"
      ]
    },
    {
      "cell_type": "markdown",
      "id": "abc5601f",
      "metadata": {},
      "source": [
        "Guardamos el archivo limpio para el ejercicio siguiente. "
      ]
    },
    {
      "cell_type": "code",
      "execution_count": 30,
      "id": "ac09f46e",
      "metadata": {},
      "outputs": [
        {
          "name": "stderr",
          "output_type": "stream",
          "text": [
            "<>:1: SyntaxWarning: invalid escape sequence '\\D'\n",
            "<>:1: SyntaxWarning: invalid escape sequence '\\D'\n",
            "C:\\Users\\Gema\\AppData\\Local\\Temp\\ipykernel_31084\\694174461.py:1: SyntaxWarning: invalid escape sequence '\\D'\n",
            "  seguros_data.to_csv('C:\\DAM\\Ironhack\\Laboratorios\\lab-dw-data-structuring-and-combining/seguros_data_clean.csv', index=False)\n"
          ]
        }
      ],
      "source": [
        "seguros_data.to_csv('C:\\DAM\\Ironhack\\Laboratorios\\lab-dw-data-structuring-and-combining/seguros_data_clean.csv', index=False)"
      ]
    }
  ],
  "metadata": {
    "colab": {
      "provenance": []
    },
    "kernelspec": {
      "display_name": "base",
      "language": "python",
      "name": "python3"
    },
    "language_info": {
      "codemirror_mode": {
        "name": "ipython",
        "version": 3
      },
      "file_extension": ".py",
      "mimetype": "text/x-python",
      "name": "python",
      "nbconvert_exporter": "python",
      "pygments_lexer": "ipython3",
      "version": "3.12.4"
    }
  },
  "nbformat": 4,
  "nbformat_minor": 5
}
